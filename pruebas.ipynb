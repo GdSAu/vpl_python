{
 "cells": [
  {
   "cell_type": "code",
   "execution_count": null,
   "metadata": {},
   "outputs": [],
   "source": []
  },
  {
   "cell_type": "code",
   "execution_count": 1,
   "metadata": {},
   "outputs": [],
   "source": [
    "from Robotsensor.meshLoader import SceneLoader"
   ]
  },
  {
   "cell_type": "code",
   "execution_count": 12,
   "metadata": {},
   "outputs": [],
   "source": [
    "def createScenes(dir_carpeta,img_H,img_W, floor=False):\n",
    "    miEscena = SceneLoader(dir_carpeta,floor)\n",
    "    render, scene = miEscena.get_scenes(img_H,img_W)\n",
    "    return render, scene"
   ]
  },
  {
   "cell_type": "code",
   "execution_count": 13,
   "metadata": {},
   "outputs": [
    {
     "name": "stdout",
     "output_type": "stream",
     "text": [
      "[Open3D INFO] EGL headless mode enabled.\n",
      "FEngine (64 bits) created at 0xe3cd710 (threading is enabled)\n",
      "EGL(1.5)\n",
      "OpenGL(4.1)\n"
     ]
    }
   ],
   "source": [
    "dir_carpeta= \"/mnt/6C24E28478939C77/Saulo/ProyectoPHD/objects/Curver_Storage_Bin_Black_Small\"\n",
    "w= 100\n",
    "render, scene = createScenes(dir_carpeta,w,w)"
   ]
  },
  {
   "cell_type": "code",
   "execution_count": 1,
   "metadata": {},
   "outputs": [
    {
     "name": "stdout",
     "output_type": "stream",
     "text": [
      "Jupyter environment detected. Enabling Open3D WebVisualizer.\n",
      "[Open3D INFO] WebRTC GUI backend enabled.\n",
      "[Open3D INFO] WebRTCWindowSystem: HTTP handshake server disabled.\n"
     ]
    }
   ],
   "source": [
    "from Reconstructor.Reconstructor import Reconstructor"
   ]
  },
  {
   "cell_type": "code",
   "execution_count": 2,
   "metadata": {},
   "outputs": [],
   "source": [
    "rec = Reconstructor(\"/mnt/6C24E28478939C77/Saulo/ProyectoPHD/valparams.yaml\")"
   ]
  },
  {
   "cell_type": "code",
   "execution_count": null,
   "metadata": {},
   "outputs": [],
   "source": []
  }
 ],
 "metadata": {
  "kernelspec": {
   "display_name": "o3d",
   "language": "python",
   "name": "python3"
  },
  "language_info": {
   "codemirror_mode": {
    "name": "ipython",
    "version": 3
   },
   "file_extension": ".py",
   "mimetype": "text/x-python",
   "name": "python",
   "nbconvert_exporter": "python",
   "pygments_lexer": "ipython3",
   "version": "3.11.7"
  }
 },
 "nbformat": 4,
 "nbformat_minor": 2
}
